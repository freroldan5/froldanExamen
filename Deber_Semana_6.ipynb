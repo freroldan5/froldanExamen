{
  "nbformat": 4,
  "nbformat_minor": 0,
  "metadata": {
    "colab": {
      "provenance": [],
      "include_colab_link": true
    },
    "kernelspec": {
      "name": "python3",
      "display_name": "Python 3"
    },
    "language_info": {
      "name": "python"
    }
  },
  "cells": [
    {
      "cell_type": "markdown",
      "metadata": {
        "id": "view-in-github",
        "colab_type": "text"
      },
      "source": [
        "<a href=\"https://colab.research.google.com/github/freroldan5/froldanExamen/blob/master/Deber_Semana_6.ipynb\" target=\"_parent\"><img src=\"https://colab.research.google.com/assets/colab-badge.svg\" alt=\"Open In Colab\"/></a>"
      ]
    },
    {
      "cell_type": "markdown",
      "source": [
        "Delcaracion de librerías."
      ],
      "metadata": {
        "id": "fovQLaLzuD8m"
      }
    },
    {
      "cell_type": "code",
      "execution_count": 1,
      "metadata": {
        "id": "T_HL6cz8t-0q"
      },
      "outputs": [],
      "source": [
        "import numpy as np                         #Librería para el cálculo numérico y el análisis de datos. \n",
        "import pylab as plt                        #Librería para la creación de gráficos en 2D          \n",
        "import networkx as nx                      #Libreria de redes de graphos."
      ]
    },
    {
      "cell_type": "code",
      "source": [
        "listPuntos = [(0,1), (1,5), (5,6), (5,4), (1,2), (2,3), (2,7)]  #rutas o puntos del obvejtivo"
      ],
      "metadata": {
        "id": "gNRkhBIXwf9Q"
      },
      "execution_count": 2,
      "outputs": []
    },
    {
      "cell_type": "code",
      "source": [
        "objetivo = 7                               #Número de rutas. \n",
        "g = nx.Graph()                             #Implemente la estructura de datos de graph dirigidos ponderados y no ponderados\n",
        "g.add_edges_from(listPuntos)               #Es un método que nos sirve para iniciar una gráfica.\n",
        "pos = nx.spring_layout(g)\n",
        "\n",
        "nx.draw_networkx_nodes(g, pos)             #Organizar nodos.\n",
        "nx.draw_networkx_edges(g, pos)             #Organziar uniones.\n",
        "nx.draw_networkx_labels(g, pos)            #Muestra etiquetas.\n",
        "\n",
        "plt.show()"
      ],
      "metadata": {
        "colab": {
          "base_uri": "https://localhost:8080/",
          "height": 406
        },
        "id": "JtTb7ACrxLgz",
        "outputId": "9310f607-7e71-4a9d-8dce-cac00bffb61e"
      },
      "execution_count": 3,
      "outputs": [
        {
          "output_type": "display_data",
          "data": {
            "text/plain": [
              "<Figure size 640x480 with 1 Axes>"
            ],
            "image/png": "[encoded data removed]"
          },
          "metadata": {}
        }
      ]
    },
    {
      "cell_type": "code",
      "source": [
        "MATRIX_SIZE = 8                                               #Máximo de puntos"
      ],
      "metadata": {
        "id": "ocoLjGT_4_eW"
      },
      "execution_count": 4,
      "outputs": []
    },
    {
      "cell_type": "code",
      "source": [
        "R =  np.matrix(np.ones(shape=(MATRIX_SIZE, MATRIX_SIZE)))     #Matriz de 5x5 de unos"
      ],
      "metadata": {
        "id": "052gjear5JMa"
      },
      "execution_count": 5,
      "outputs": []
    },
    {
      "cell_type": "code",
      "source": [
        "R *= -1                                                       #Matriz con pura pérdida"
      ],
      "metadata": {
        "id": "T47DT_DZ5ZbQ"
      },
      "execution_count": 6,
      "outputs": []
    },
    {
      "cell_type": "code",
      "source": [
        "for punt in listPuntos:                                      #Moverse por los puntos    \n",
        "   print(punt)\n",
        "   if punt[1] == objetivo:\n",
        "    R[punt] = 100\n",
        "   else:\n",
        "    R[punt] = 0 \n",
        "\n",
        "   if punt[0] == objetivo:\n",
        "      R[punt[::-1]] = 100\n",
        "   else:\n",
        "      R[punt[::-1]] = 0\n",
        "\n",
        "R [objetivo, objetivo] = 100                                   #Se forma el hambiente.                                    "
      ],
      "metadata": {
        "id": "1cWnOHM05iqn",
        "colab": {
          "base_uri": "https://localhost:8080/"
        },
        "outputId": "3e72435a-5540-41fd-a7f7-4d69ddd13fbc"
      },
      "execution_count": 7,
      "outputs": [
        {
          "output_type": "stream",
          "name": "stdout",
          "text": [
            "(0, 1)\n",
            "(1, 5)\n",
            "(5, 6)\n",
            "(5, 4)\n",
            "(1, 2)\n",
            "(2, 3)\n",
            "(2, 7)\n"
          ]
        }
      ]
    },
    {
      "cell_type": "code",
      "source": [
        "R                                                              #Impresión del ambiente formado \"matriz de caminos y ganancias\""
      ],
      "metadata": {
        "colab": {
          "base_uri": "https://localhost:8080/"
        },
        "id": "5fgXbEnJAWdk",
        "outputId": "9937c916-0ac6-4a82-98dd-9c14b8129506"
      },
      "execution_count": 8,
      "outputs": [
        {
          "output_type": "execute_result",
          "data": {
            "text/plain": [
              "matrix([[ -1.,   0.,  -1.,  -1.,  -1.,  -1.,  -1.,  -1.],\n",
              "        [  0.,  -1.,   0.,  -1.,  -1.,   0.,  -1.,  -1.],\n",
              "        [ -1.,   0.,  -1.,   0.,  -1.,  -1.,  -1., 100.],\n",
              "        [ -1.,  -1.,   0.,  -1.,  -1.,  -1.,  -1.,  -1.],\n",
              "        [ -1.,  -1.,  -1.,  -1.,  -1.,   0.,  -1.,  -1.],\n",
              "        [ -1.,   0.,  -1.,  -1.,   0.,  -1.,   0.,  -1.],\n",
              "        [ -1.,  -1.,  -1.,  -1.,  -1.,   0.,  -1.,  -1.],\n",
              "        [ -1.,  -1.,   0.,  -1.,  -1.,  -1.,  -1., 100.]])"
            ]
          },
          "metadata": {},
          "execution_count": 8
        }
      ]
    },
    {
      "cell_type": "code",
      "source": [
        "Q = np.matrix(np.zeros([MATRIX_SIZE, MATRIX_SIZE]))\n",
        "gama = 0.8                                                    #Corrección al algoritmo\n",
        "estadoInicial = 1                                             #Punto de partidad"
      ],
      "metadata": {
        "id": "pgn13qmsAyIN"
      },
      "execution_count": 9,
      "outputs": []
    },
    {
      "cell_type": "code",
      "source": [
        "def accionesPosibles(estado):\n",
        "  estadoActual_fila = R[estado]\n",
        "  acAvance = np.where(estadoActual_fila>=0) [1]\n",
        "\n",
        "  return acAvance"
      ],
      "metadata": {
        "id": "Bca3wpxeBxu6"
      },
      "execution_count": 10,
      "outputs": []
    },
    {
      "cell_type": "code",
      "source": [
        "acDisponible = accionesPosibles(estadoInicial)"
      ],
      "metadata": {
        "id": "j8oMIgu_B3au"
      },
      "execution_count": 11,
      "outputs": []
    },
    {
      "cell_type": "code",
      "source": [
        "def pruebSiguienteAccion(rangoAccionesPosibles):\n",
        "  acSiguiente = int(np.random.choice(acDisponible,1))\n",
        "  return acSiguiente"
      ],
      "metadata": {
        "id": "PpziKOQ2B5lG"
      },
      "execution_count": 12,
      "outputs": []
    },
    {
      "cell_type": "code",
      "source": [
        "accion = pruebSiguienteAccion(acDisponible)"
      ],
      "metadata": {
        "id": "Z1lbe7KyB7tO"
      },
      "execution_count": 13,
      "outputs": []
    },
    {
      "cell_type": "code",
      "source": [
        "def actualizar(estadoActual, accion, gamma):\n",
        "  indiceMayor = np.where(Q[accion, ] == np.max(Q[accion, ]))[1]\n",
        "\n",
        "  if indiceMayor.shape[0] > 1:\n",
        "    indiceMayor = int(np.random.choice(indiceMayor, size = 1))\n",
        "  else:\n",
        "    indiceMayor = int (indiceMayor)\n",
        "\n",
        "  valorMaximo = Q[accion, indiceMayor]\n",
        "\n",
        "  Q[estadoActual, accion] = R[estadoActual, accion] + gamma*valorMaximo\n",
        "\n",
        "  print('Valor máximo', R[estadoActual, accion] + gamma*valorMaximo)\n",
        "\n",
        "  if(np.max(Q)>0):\n",
        "    return(np.sum(Q/np.max(Q)*100))\n",
        "  else:\n",
        "    return 0   "
      ],
      "metadata": {
        "id": "3sZJimbnB-Rq"
      },
      "execution_count": 14,
      "outputs": []
    },
    {
      "cell_type": "code",
      "source": [
        "actualizar(estadoInicial, accion, gama)"
      ],
      "metadata": {
        "colab": {
          "base_uri": "https://localhost:8080/"
        },
        "id": "dxCr13DrCSdA",
        "outputId": "cc748d2a-16f4-4b1e-ba77-7a515084f27a"
      },
      "execution_count": 15,
      "outputs": [
        {
          "output_type": "stream",
          "name": "stdout",
          "text": [
            "Valor máximo 0.0\n"
          ]
        },
        {
          "output_type": "execute_result",
          "data": {
            "text/plain": [
              "0"
            ]
          },
          "metadata": {},
          "execution_count": 15
        }
      ]
    },
    {
      "cell_type": "code",
      "source": [
        "puntajes = []\n",
        "\n",
        "for i in range(10):\n",
        "  estadoActual = np.random.randint(0, int(Q.shape[0]))\n",
        "  acDisponible = accionesPosibles(estadoActual)\n",
        "  accion = pruebSiguienteAccion(acDisponible) \n",
        "  puntaje = actualizar(estadoActual, accion, gama)\n",
        "  puntajes.append(puntaje)\n",
        "\n",
        "print(\"Matriz Q, entrenada!!\")\n",
        "\n",
        "print(Q/np.max(Q)*100)"
      ],
      "metadata": {
        "colab": {
          "base_uri": "https://localhost:8080/"
        },
        "id": "hZlxb4DhD3z_",
        "outputId": "268409da-db52-4afe-c518-4cb6fbb7cc86"
      },
      "execution_count": 16,
      "outputs": [
        {
          "output_type": "stream",
          "name": "stdout",
          "text": [
            "Valor máximo 0.0\n",
            "Valor máximo 0.0\n",
            "Valor máximo 0.0\n",
            "Valor máximo 0.0\n",
            "Valor máximo 0.0\n",
            "Valor máximo 100.0\n",
            "Valor máximo 180.0\n",
            "Valor máximo 244.0\n",
            "Valor máximo 0.0\n",
            "Valor máximo 0.0\n",
            "Matriz Q, entrenada!!\n",
            "[[  0.   0.   0.   0.   0.   0.   0.   0.]\n",
            " [  0.   0.   0.   0.   0.   0.   0.   0.]\n",
            " [  0.   0.   0.   0.   0.   0.   0.   0.]\n",
            " [  0.   0.   0.   0.   0.   0.   0.   0.]\n",
            " [  0.   0.   0.   0.   0.   0.   0.   0.]\n",
            " [  0.   0.   0.   0.   0.   0.   0.   0.]\n",
            " [  0.   0.   0.   0.   0.   0.   0.   0.]\n",
            " [  0.   0.   0.   0.   0.   0.   0. 100.]]\n"
          ]
        }
      ]
    },
    {
      "cell_type": "code",
      "source": [
        "estadoActual = 0\n",
        "paso = [estadoActual]\n",
        "\n",
        "while estadoActual !=7:\n",
        "  indiceSiguientePaso = np.where(Q[estadoActual, ] == np.max(Q[estadoActual, ]))[1]\n",
        "\n",
        "  if indiceSiguientePaso.shape[0] > 1 :\n",
        "    indiceSiguientePaso = int(np.random.choice(Q.shape[1], size=1))\n",
        "  else:\n",
        "    indiceSiguientePaso = int(indiceSiguientePaso)\n",
        "\n",
        "  paso.append(indiceSiguientePaso)\n",
        "  estadoActual = indiceSiguientePaso\n",
        "\n",
        "print(\"El camino más eficiente: \")\n",
        "print(paso)\n",
        "\n",
        "plt.plot(puntajes)\n",
        "plt.show()"
      ],
      "metadata": {
        "colab": {
          "base_uri": "https://localhost:8080/",
          "height": 465
        },
        "id": "zeMyq91AE0vI",
        "outputId": "15e8c9a5-11c7-403c-cc7e-2ce5ac0a2595"
      },
      "execution_count": 17,
      "outputs": [
        {
          "output_type": "stream",
          "name": "stdout",
          "text": [
            "El camino más eficiente: \n",
            "[0, 7]\n"
          ]
        },
        {
          "output_type": "display_data",
          "data": {
            "text/plain": [
              "<Figure size 640x480 with 1 Axes>"
            ],
            "image/png": "[encoded data removed]"
          },
          "metadata": {}
        }
      ]
    }
  ]
}